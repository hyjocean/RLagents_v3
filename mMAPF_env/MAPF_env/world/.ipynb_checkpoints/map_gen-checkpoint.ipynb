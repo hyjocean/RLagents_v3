{
 "cells": [
  {
   "cell_type": "code",
   "execution_count": null,
   "id": "ff4af072-ecfb-469c-bd12-ebb20ba73d3f",
   "metadata": {},
   "outputs": [],
   "source": [
    "a = spaces.Box(shape=(3,3), low=1,high=10)"
   ]
  },
  {
   "cell_type": "code",
   "execution_count": null,
   "id": "d6751e96-6ee0-4900-bbc2-a6efe8d3459c",
   "metadata": {},
   "outputs": [
    {
     "data": {
      "text/plain": [
       "array([[4.3099885, 7.0077977, 9.102952 ],\n",
       "       [5.8691287, 3.8419774, 8.43908  ],\n",
       "       [6.2610497, 7.5150576, 1.607401 ]], dtype=float32)"
      ]
     },
     "execution_count": 3,
     "metadata": {},
     "output_type": "execute_result"
    }
   ],
   "source": [
    "a.sample()"
   ]
  },
  {
   "cell_type": "code",
   "execution_count": null,
   "id": "3a837c29-126c-42b8-a487-95f36884cb8d",
   "metadata": {},
   "outputs": [],
   "source": [
    "FEATURES = ['presence', 'orientation', 'v']\n",
    "GRID_SIZE= np.array([[-1.5*5, 1.5*5], [-1.5*5, 1.5*5]])\n",
    "GRID_STEP = np.array([5, 5])\n",
    "\n",
    "grid_shape = np.asarray(np.floor((GRID_SIZE[:, 1] - GRID_SIZE[:, 0]) / GRID_STEP),\n",
    "                                dtype=np.uint8)"
   ]
  },
  {
   "cell_type": "code",
   "execution_count": 8,
   "id": "85012d57-4306-4e50-a3a4-da42e5666b9f",
   "metadata": {},
   "outputs": [
    {
     "data": {
      "text/plain": [
       "array([3, 3], dtype=uint8)"
      ]
     },
     "execution_count": 8,
     "metadata": {},
     "output_type": "execute_result"
    }
   ],
   "source": [
    "grid_shape"
   ]
  },
  {
   "cell_type": "code",
   "execution_count": 9,
   "id": "78cc4890-4ba7-4537-b1fa-b1abb5823858",
   "metadata": {},
   "outputs": [],
   "source": [
    "import numpy as np\n",
    "import random\n",
    "import sys\n",
    "# from Env_Builder import World\n",
    "\n",
    "from matplotlib import pyplot as plt\n",
    "from IPython.display import display, clear_output\n",
    "import time\n",
    "    \n",
    "# def isConnected(world0):\n",
    "#     sys.setrecursionlimit(10000)\n",
    "#     world0 = world0.copy()\n",
    "\n",
    "#     def firstFree(world0):\n",
    "#         for x in range(world0.shape[0]):\n",
    "#             for y in range(world0.shape[1]):\n",
    "#                 if world0[x, y] == 0:\n",
    "#                     return x, y\n",
    "\n",
    "#     def floodfill(world, i, j):\n",
    "#         sx, sy = world.shape[0], world.shape[1]\n",
    "#         if i < 0 or i >= sx or j < 0 or j >= sy:  # out of bounds, return\n",
    "#             return\n",
    "#         if world[i, j] == -1: return\n",
    "#         world[i, j] = -1\n",
    "#         floodfill(world, i + 1, j)\n",
    "#         floodfill(world, i, j + 1)\n",
    "#         floodfill(world, i - 1, j)\n",
    "#         floodfill(world, i, j - 1)\n",
    "\n",
    "#     i, j = firstFree(world0)\n",
    "#     floodfill(world0, i, j)\n",
    "#     if np.any(world0 == 0):\n",
    "#         return False\n",
    "#     else:\n",
    "#         return True\n",
    "\n",
    "\n",
    "# def GetConnectedRegion(world, regions_dict, x, y):\n",
    "#     sys.setrecursionlimit(1000000)\n",
    "#     '''returns a list of tuples of connected squares to the given tile\n",
    "#     this is memorized with a dict'''\n",
    "#     if (x, y) in regions_dict:\n",
    "#         return regions_dict[(x, y)]\n",
    "#     visited = set()\n",
    "#     sx, sy = world.shape[0], world.shape[1]\n",
    "#     work_list = [(x, y)]\n",
    "#     while len(work_list) > 0:\n",
    "#         (i, j) = work_list.pop()\n",
    "#         if i < 0 or i >= sx or j < 0 or j >= sy:  # out of bounds, return\n",
    "#             continue\n",
    "#         if world[i, j] == -1:\n",
    "#             continue  # crashes\n",
    "#         if world[i, j] > 0:\n",
    "#             regions_dict[(i, j)] = visited\n",
    "#         if (i, j) in visited: continue\n",
    "#         visited.add((i, j))\n",
    "#         work_list.append((i + 1, j))\n",
    "#         work_list.append((i, j + 1))\n",
    "#         work_list.append((i - 1, j))\n",
    "#         work_list.append((i, j - 1))\n",
    "#     regions_dict[(x, y)] = visited\n",
    "#     return visited\n",
    "\n",
    "# plt.ion()\n",
    "# fig, ax = plt.subplots()\n",
    "\n",
    "def maze_generator(env_size=(10, 70), wall_components=(1, 8), obstacle_density=None,\n",
    "                   go_straight=0.8):\n",
    "    min_size, max_size = env_size\n",
    "    min_component, max_component = wall_components\n",
    "    num_components = np.random.randint(\n",
    "        low=min_component, high=max_component + 1)\n",
    "    assert min_size > 5\n",
    "    # todo: write comments\n",
    "    \"\"\"\n",
    "    num_agents,\n",
    "    IsDiagonal,\n",
    "    min_size: min length of the 'radius' of the map,\n",
    "    max_size: max length of the 'radius' of the map,\n",
    "    complexity,\n",
    "    obstacle_density,\n",
    "    go_straight,\n",
    "    \"\"\"\n",
    "    if obstacle_density is None:\n",
    "        obstacle_density = [0, 1]\n",
    "\n",
    "    def maze(h, w, total_density=0):\n",
    "        # Only odd shapes\n",
    "        assert h > 0 and w > 0, \"You are giving non-positive width and height\"\n",
    "        shape = ((h // 2) * 2 + 3, (w // 2) * 2 + 3)\n",
    "        # Adjust num_components and density relative to maze world_size\n",
    "        # density    = int(density * ((shape[0] // 2) * (shape[1] // 2))) // 20 # world_size of components\n",
    "        density = int(shape[0] * shape[1] * total_density //\n",
    "                      num_components) if num_components != 0 else 0\n",
    "        print(f\"density:{density}, components:{num_components}\")\n",
    "        # Build actual maze\n",
    "        Z = np.zeros(shape, dtype='int')\n",
    "        # Fill borders\n",
    "        Z[0, :] = Z[-1, :] = 1\n",
    "        Z[:, 0] = Z[:, -1] = 1\n",
    "        # Make aisles\n",
    "        for i in range(density):\n",
    "            # print(f\"i_idx:{i}\")\n",
    "            x, y = np.random.randint(0, shape[1] // 2) * 2, np.random.randint(0, shape[\n",
    "                0] // 2) * 2  # pick a random position\n",
    "            Z[y, x] = 1\n",
    "            last_dir = 0\n",
    "            for j in range(num_components):\n",
    "                neighbours = []\n",
    "                # print(f\"    j_idx:{j}\")\n",
    "                if x > 1:\n",
    "                    neighbours.append((y, x - 2))\n",
    "                if x < shape[1] - 2:\n",
    "                    neighbours.append((y, x + 2))\n",
    "                if y > 1:\n",
    "                    neighbours.append((y - 2, x))\n",
    "                if y < shape[0] - 2:\n",
    "                    neighbours.append((y + 2, x))\n",
    "                if len(neighbours):\n",
    "                    if last_dir == 0:\n",
    "                        y_, x_ = neighbours[np.random.randint(\n",
    "                            0, len(neighbours))]\n",
    "                        if Z[y_, x_] == 0:\n",
    "                            last_dir = (y_ - y, x_ - x)\n",
    "                            Z[y_, x_] = 1\n",
    "                            Z[y_ + (y - y_) // 2, x_ + (x - x_) // 2] = 1\n",
    "                            x, y = x_, y_\n",
    "                    else:\n",
    "                        index_F = -1\n",
    "                        index_B = -1\n",
    "                        diff = []\n",
    "                        for k in range(len(neighbours)):\n",
    "                            # print(f\"        k_idx:{k}\")\n",
    "                            diff.append(\n",
    "                                (neighbours[k][0] - y, neighbours[k][1] - x))\n",
    "                            if diff[k] == last_dir:\n",
    "                                index_F = k\n",
    "                            elif diff[k][0] + last_dir[0] == 0 and diff[k][1] + last_dir[1] == 0:\n",
    "                                index_B = k\n",
    "                        assert (index_B >= 0)\n",
    "                        if (index_F + 1):\n",
    "                            p = (1 - go_straight) * \\\n",
    "                                np.ones(len(neighbours)) / \\\n",
    "                                (len(neighbours) - 2)\n",
    "                            p[index_B] = 0\n",
    "                            p[index_F] = go_straight\n",
    "                            # assert(p.sum() == 1)\n",
    "                        else:\n",
    "                            if len(neighbours) == 1:\n",
    "                                p = 1\n",
    "                            else:\n",
    "                                p = np.ones(len(neighbours)) / \\\n",
    "                                    (len(neighbours) - 1)\n",
    "                                p[index_B] = 0\n",
    "                            assert (p.sum() == 1)\n",
    "\n",
    "                        I = np.random.choice(range(len(neighbours)), p=p)\n",
    "                        (y_, x_) = neighbours[I]\n",
    "                        if Z[y_, x_] == 0:\n",
    "                            last_dir = (y_ - y, x_ - x)\n",
    "                            Z[y_, x_] = 1\n",
    "                            Z[y_ + (y - y_) // 2, x_ + (x - x_) // 2] = 1\n",
    "                            x, y = x_, y_\n",
    "#             ax.imshow(-Z)\n",
    "#             display(fig)\n",
    "#             clear_output(wait=True)\n",
    "#             time.sleep(0.1)                \n",
    "                     \n",
    "#         plt.ioff()\n",
    "#         plt.show()\n",
    "        return Z\n",
    "\n",
    "    def generator():\n",
    "        # randomize the world RANDOMIZE THE STATIC OBSTACLES obstacle_density =\n",
    "        # np.random.triangular(obstacle_density[0], .33 * obstacle_density[0] + .66 * obstacle_density[1],\n",
    "        # obstacle_density[1])\n",
    "        world_size = np.random.randint(min_size, max_size + 1)\n",
    "        world = -maze(int(world_size), int(world_size),\n",
    "                      total_density=np.random.uniform(\n",
    "                          obstacle_density[0], obstacle_density[1]),\n",
    "                      ).astype(int)\n",
    "        world = np.array(world)\n",
    "        return world, None\n",
    "\n",
    "    return generator\n",
    "\n",
    "\n",
    "def manual_generator(state_map, goals_map=None):\n",
    "    state_map = np.array(state_map)\n",
    "    \n",
    "    assert state_map is not None\n",
    "    assert len(state_map.shape) == 2\n",
    "    assert min(state_map.shape) >= 5\n",
    "    \n",
    "    if goals_map is not None:\n",
    "        goals_map = np.array(goals_map)\n",
    "        assert goals_map.shape[0] == state_map.shape[0] and goals_map.shape[1] == state_map.shape[1]\n",
    "\n",
    "    constant_values = np.setdiff1d(np.unique(state_map), [0])[0]\n",
    "    def is_outer_all_ones(matrix, constant_values = constant_values):\n",
    "        # 检查矩阵的边缘行和列是否全都是1\n",
    "        rows, cols = matrix.shape\n",
    "        outer_rows = np.all(matrix[0, :] == constant_values) and np.all(matrix[-1, :] == constant_values)\n",
    "        outer_cols = np.all(matrix[:, 0] == constant_values) and np.all(matrix[:, -1] == constant_values)\n",
    "\n",
    "        # 返回是否全都是1\n",
    "        return outer_rows and outer_cols\n",
    "\n",
    "    if not is_outer_all_ones(state_map, constant_values):\n",
    "        state_map = np.pad(state_map, pad_width=1, constant_values=constant_values)\n",
    "        if goals_map is not None:\n",
    "            goals_map = np.pad(goals_map, pad_width=1, constant_values=constant_values)\n",
    "            assert goals_map.shape[0] == state_map.shape[0] and goals_map.shape[1] == state_map.shape[1]\n",
    "            \n",
    "            \n",
    "    if constant_values == 1:\n",
    "        state_map = -state_map\n",
    "\n",
    "    def generator():\n",
    "        return state_map, goals_map\n",
    "\n",
    "    return generator\n",
    "\n",
    "# def manual_generator(state_map, goals_map=None):\n",
    "#     state_map = np.array(state_map)\n",
    "\n",
    "#     assert state_map is not None\n",
    "#     assert len(state_map.shape) == 2\n",
    "#     assert min(state_map.shape) >= 5\n",
    "#     if goals_map is not None:\n",
    "#         goals_map = np.array(goals_map)\n",
    "#         assert goals_map.shape[0] == state_map.shape[0] and goals_map.shape[1] == state_map.shape[1]\n",
    "\n",
    "#     def generator():\n",
    "#         return state_map, goals_map\n",
    "\n",
    "#     return generator"
   ]
  },
  {
   "cell_type": "code",
   "execution_count": 106,
   "id": "979bec92-e5ac-47b0-a9f4-02ce18de7076",
   "metadata": {},
   "outputs": [],
   "source": [
    "state_map = np.pad(-np.random.randint(2,size=(20,20)), pad_width=1, constant_values=-1)"
   ]
  },
  {
   "cell_type": "code",
   "execution_count": 172,
   "id": "8d582825-4365-446f-9674-484b1cabb9c5",
   "metadata": {},
   "outputs": [
    {
     "data": {
      "text/plain": [
       "(-98, 289)"
      ]
     },
     "execution_count": 172,
     "metadata": {},
     "output_type": "execute_result"
    }
   ],
   "source": [
    "world[0][1:-1,1:-1].sum(), 17*17\n",
    "# NOTE: 为什么这里的obstacle_density不完全符合"
   ]
  },
  {
   "cell_type": "code",
   "execution_count": 10,
   "id": "9a4c6291-fde1-4ea1-980f-2de084fee746",
   "metadata": {},
   "outputs": [
    {
     "name": "stdout",
     "output_type": "stream",
     "text": [
      "testing randomized map generation\n",
      "density:90, components:2\n"
     ]
    },
    {
     "data": {
      "image/png": "[encoded data removed]",
      "text/plain": [
       "<Figure size 640x480 with 1 Axes>"
      ]
     },
     "metadata": {},
     "output_type": "display_data"
    }
   ],
   "source": [
    "from matplotlib import pyplot as plt\n",
    "print(\"testing randomized map generation\")\n",
    "plt.ion()\n",
    "generator = maze_generator(env_size=(17,17),obstacle_density=[0.5,0.5], wall_components=(2,2))\n",
    "# generator = manual_generator(state_map)\n",
    "world = generator()\n",
    "\n",
    "plt.imshow(world[0])\n",
    "plt.pause(0.1)\n",
    "plt.ioff()\n",
    "plt.show()"
   ]
  },
  {
   "cell_type": "code",
   "execution_count": 11,
   "id": "b1c201e4-5794-4841-867c-9db9869a2edd",
   "metadata": {
    "tags": []
   },
   "outputs": [
    {
     "ename": "KeyboardInterrupt",
     "evalue": "",
     "output_type": "error",
     "traceback": [
      "\u001b[0;31m---------------------------------------------------------------------------\u001b[0m",
      "\u001b[0;31mKeyboardInterrupt\u001b[0m                         Traceback (most recent call last)",
      "Cell \u001b[0;32mIn[11], line 15\u001b[0m\n\u001b[1;32m     13\u001b[0m     display(fig)\n\u001b[1;32m     14\u001b[0m     clear_output(wait\u001b[38;5;241m=\u001b[39m\u001b[38;5;28;01mTrue\u001b[39;00m)\n\u001b[0;32m---> 15\u001b[0m     \u001b[43mtime\u001b[49m\u001b[38;5;241;43m.\u001b[39;49m\u001b[43msleep\u001b[49m\u001b[43m(\u001b[49m\u001b[38;5;241;43m0.1\u001b[39;49m\u001b[43m)\u001b[49m\n\u001b[1;32m     16\u001b[0m     \u001b[38;5;66;03m# plt.imshow(world[0])  # obstacle map\u001b[39;00m\n\u001b[1;32m     17\u001b[0m     \u001b[38;5;66;03m# plt.pause(0.1)\u001b[39;00m\n\u001b[1;32m     18\u001b[0m plt\u001b[38;5;241m.\u001b[39mioff()\n",
      "\u001b[0;31mKeyboardInterrupt\u001b[0m: "
     ]
    },
    {
     "data": {
      "image/png": "[encoded data removed]",
      "text/plain": [
       "<Figure size 640x480 with 1 Axes>"
      ]
     },
     "metadata": {},
     "output_type": "display_data"
    }
   ],
   "source": [
    "if __name__ == \"__main__\":\n",
    "    from matplotlib import pyplot as plt\n",
    "    from IPython.display import display, clear_output\n",
    "    import time\n",
    "    \n",
    "    print(\"testing randomized map generation\")\n",
    "    plt.ion()\n",
    "    fig, ax = plt.subplots()\n",
    "    for _ in range(1000):\n",
    "        generator = maze_generator()\n",
    "        world = generator()\n",
    "        ax.imshow(world[0])\n",
    "        display(fig)\n",
    "        clear_output(wait=True)\n",
    "        time.sleep(0.1)\n",
    "        # plt.imshow(world[0])  # obstacle map\n",
    "        # plt.pause(0.1)\n",
    "    plt.ioff()\n",
    "    plt.show()"
   ]
  },
  {
   "cell_type": "code",
   "execution_count": null,
   "id": "50458f80-f39d-4227-97dd-7370c795ec69",
   "metadata": {},
   "outputs": [],
   "source": []
  }
 ],
 "metadata": {
  "kernelspec": {
   "display_name": "rl",
   "language": "python",
   "name": "rl"
  },
  "language_info": {
   "codemirror_mode": {
    "name": "ipython",
    "version": 3
   },
   "file_extension": ".py",
   "mimetype": "text/x-python",
   "name": "python",
   "nbconvert_exporter": "python",
   "pygments_lexer": "ipython3",
   "version": "3.8.18"
  }
 },
 "nbformat": 4,
 "nbformat_minor": 5
}
