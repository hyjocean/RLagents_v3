{
 "cells": [
  {
   "cell_type": "code",
   "execution_count": null,
   "id": "9df4c003-62db-46c6-a4ff-4406ed039af6",
   "metadata": {},
   "outputs": [],
   "source": [
    "import gymnasium as gym\n",
    "class Abc(gym.Env):\n",
    "    def __init__(self, config: dict = None, render_mode: Optional[str] = None) -> None:\n",
    "        super().__init__()\n",
    "        test =1 \n",
    "        \n",
    "    def defa()"
   ]
  }
 ],
 "metadata": {
  "kernelspec": {
   "display_name": "rl",
   "language": "python",
   "name": "rl"
  },
  "language_info": {
   "codemirror_mode": {
    "name": "ipython",
    "version": 3
   },
   "file_extension": ".py",
   "mimetype": "text/x-python",
   "name": "python",
   "nbconvert_exporter": "python",
   "pygments_lexer": "ipython3",
   "version": "3.8.18"
  }
 },
 "nbformat": 4,
 "nbformat_minor": 5
}
